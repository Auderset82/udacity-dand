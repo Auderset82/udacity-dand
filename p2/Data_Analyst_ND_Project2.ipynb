{
 "cells": [
  {
   "cell_type": "markdown",
   "metadata": {},
   "source": [
    "# Udacity Data Analyst Nanodegree\n",
    "## P2: Investigate a Dataset\n",
    "#### Author: David Venturi\n",
    "#### Date: May 2, 2016"
   ]
  },
  {
   "cell_type": "markdown",
   "metadata": {},
   "source": [
    "## Background Information\n",
    "\n",
    "**What is a balk?** [Pro Baseball Insider](http://probaseballinsider.com/baseball-instruction/what-is-a-balk/) has the simplest definition:\n",
    "> In the simplest sense, a balk is when the pitcher tries to intentionally deceive the hitter or runner.  It can be a flinch on the mound after the pitcher gets set, a deceptive pick off attempt, or even just as simple as dropping the ball once you become set.  There are many actions that can result in a balk.  When runners are on base and a balk is called, all the runners move up one base.\n",
    "\n",
    "A full list of the actions that consitute a balk can be found [here](https://en.wikipedia.org/wiki/Balk#Balk_actions).\n",
    "\n",
    "**Balks are rare.** Since 2000, there have only been 100-200 balks per season, which is roughly one every 12 to 24 games in a full 2430-game season.\n",
    "\n",
    "**Balks are difficult to spot.** They sometimes go unnoticed. What consitutes a balk might be subjective depending on the umpire. They might even be ignored by umpires depending on the situation.\n",
    "\n",
    "**The definition of a balk has changed over time.** Throughout baseball history, there have been a number of tweaks to the balk rule. With each tweak, balk totals for the subsequent season tended to spike or dip."
   ]
  },
  {
   "cell_type": "markdown",
   "metadata": {},
   "source": [
    "## Questions for Investigation\n",
    "\n",
    "How"
   ]
  },
  {
   "cell_type": "markdown",
   "metadata": {},
   "source": [
    "## Dataset\n",
    "\n",
    "The 2015 version of The Lahman Baseball Database contains complete batting and pitching statistics from 1871 to 2014, plus fielding statistics, standings, team stats, managerial records, post-season data, and more. The *Master* (player names, DOB, and biographical info), *Pitching* (pitching statistics), and *PitchingPost* (post-season pitching statistics) tables are required for this balk analysis.\n",
    "\n",
    "The [full database](http://www.seanlahman.com/baseball-archive/statistics/) and a [detailed description](http://seanlahman.com/files/database/readme2014.txt) of its contents can be found on Sean Lahman's website."
   ]
  },
  {
   "cell_type": "code",
   "execution_count": 30,
   "metadata": {
    "collapsed": false
   },
   "outputs": [],
   "source": [
    "import pandas as pd\n",
    "# import os\n",
    "# script_dir = os.path.dirname(__file__) #<-- absolute dir the script is in\n",
    "# rel_path = '/baseballdatabank-master/core/Pitching.csv'\n",
    "# abs_file_path = os.path.join(script_dir, rel_path)\n",
    "\n",
    "master_df = pd.read_csv('../p2/baseballdatabank-master/core/Master.csv')\n",
    "pitching_df = pd.read_csv('../p2/baseballdatabank-master/core/Pitching.csv')\n",
    "pitchingpost_df = pd.read_csv('../p2/baseballdatabank-master/core/PitchingPost.csv')"
   ]
  },
  {
   "cell_type": "code",
   "execution_count": 33,
   "metadata": {
    "collapsed": false
   },
   "outputs": [
    {
     "data": {
      "text/plain": [
       "yearID\n",
       "1871    0.000296\n",
       "1872    0.000203\n",
       "1873    0.000093\n",
       "1874    0.000000\n",
       "1875    0.000269\n",
       "dtype: float64"
      ]
     },
     "execution_count": 33,
     "metadata": {},
     "output_type": "execute_result"
    }
   ],
   "source": [
    "# master_df.head()\n",
    "# pitching_df.head()\n",
    "# pitchingpost_df.head()\n",
    "balks_by_year = pitching_df.groupby('yearID')['BK'].sum()\n",
    "ipouts_by_year = pitching_df.groupby('yearID')['IPouts'].sum()\n",
    "balks_ipouts_by_year = (balks_by_year / ipouts_by_year)\n",
    "\n",
    "%pylab inline\n",
    "import matplotlib.pyplot as plt\n",
    "import seaborn as sns\n",
    "balks_ipouts_by_year.head()"
   ]
  },
  {
   "cell_type": "code",
   "execution_count": null,
   "metadata": {
    "collapsed": true
   },
   "outputs": [],
   "source": []
  }
 ],
 "metadata": {
  "kernelspec": {
   "display_name": "Python 2",
   "language": "python",
   "name": "python2"
  },
  "language_info": {
   "codemirror_mode": {
    "name": "ipython",
    "version": 2
   },
   "file_extension": ".py",
   "mimetype": "text/x-python",
   "name": "python",
   "nbconvert_exporter": "python",
   "pygments_lexer": "ipython2",
   "version": "2.7.11"
  }
 },
 "nbformat": 4,
 "nbformat_minor": 0
}
